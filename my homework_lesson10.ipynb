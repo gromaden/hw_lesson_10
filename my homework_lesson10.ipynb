{
 "cells": [
  {
   "cell_type": "code",
   "execution_count": 1,
   "metadata": {},
   "outputs": [],
   "source": [
    "# Write a program that generates 26 text files named A.txt, B.txt, and so on up to Z.txt.\n",
    "# To each file append a random number between 1 and 100.\n",
    "# Create a summary file (summary.txt) that contains the name of the file and the number in that file: A.txt: 67 B.txt: 12...Z.txt: 98"
   ]
  },
  {
   "cell_type": "code",
   "execution_count": 2,
   "metadata": {},
   "outputs": [],
   "source": [
    "import random\n",
    "\n",
    "letters = \"ABCDEFGHIJKLMNOPQRSTUVWXYZ\"\n",
    "\n",
    "for letter in letters:\n",
    "    number = random.randint(1, 100)\n",
    "    filename = letter + \".txt\"\n",
    "    with open(filename, \"a\") as file:\n",
    "        file.write(str(number) + \"\\n\")\n",
    "\n",
    "with open(\"summary.txt\", \"w\") as summary:\n",
    "    for letter in letters:\n",
    "        filename = letter + \".txt\"\n",
    "        with open(filename, \"r\") as file:\n",
    "            contents = file.read()\n",
    "            summary.write(filename + \": \" + contents.strip() + \"\\n\")"
   ]
  },
  {
   "cell_type": "code",
   "execution_count": null,
   "metadata": {},
   "outputs": [],
   "source": [
    "# Create a file with some content.\n",
    "# Create a second file and copy the content of the first file to the second file in upper case."
   ]
  },
  {
   "cell_type": "code",
   "execution_count": 9,
   "metadata": {},
   "outputs": [],
   "source": [
    "with open('file1.txt', 'w') as file1:\n",
    "    content = \"Lorem ipsum dolor sit amet, consectetur adipiscing elit, sed do eiusmod tempor incididunt ut labore et dolore magna aliqua. Ut enim ad minim veniam, quis nostrud exercitation ullamco laboris nisi ut aliquip ex ea commodo consequat. Duis aute irure dolor in reprehenderit in voluptate velit esse cillum dolore eu fugiat nulla pariatur. Excepteur sint occaecat cupidatat non proident, sunt in culpa qui officia deserunt mollit anim id est laborum.\"\n",
    "    file1.write(content)\n",
    "\n",
    "with open('file1.txt', 'r') as file1:\n",
    "    content = file1.read()\n",
    "\n",
    "with open('file2.txt', 'w') as file2:\n",
    "    file2.write(content.upper())"
   ]
  },
  {
   "cell_type": "code",
   "execution_count": null,
   "metadata": {},
   "outputs": [],
   "source": [
    "# Write a program that will simulate user scores in a game.\n",
    "# Create a list with 5 players’ names after that simulate 100 rounds for each player.\n",
    "# As a result of the game create a list with the player's name and score (0-1000 range).\n",
    "# And save it to a CSV file."
   ]
  },
  {
   "cell_type": "code",
   "execution_count": 4,
   "metadata": {},
   "outputs": [],
   "source": [
    "import csv\n",
    "\n",
    "players = [\"Josh\", \"Luke\", \"Kate\", \"Mark\", \"Mary\"]\n",
    "\n",
    "player_scores = {}\n",
    "for player in players:\n",
    "    total_score = 0\n",
    "    for i in range(100):\n",
    "        score = random.randint(0, 1000)\n",
    "        total_score += score\n",
    "    player_scores[player] = total_score\n",
    "\n",
    "with open(\"player_scores.csv\", \"w\", newline=\"\") as csvfile:\n",
    "    writer = csv.writer(csvfile)\n",
    "    writer.writerow([\"Player name\", \"Score\"])\n",
    "    for player, score in player_scores.items():\n",
    "        writer.writerow([player, score])"
   ]
  },
  {
   "cell_type": "code",
   "execution_count": null,
   "metadata": {},
   "outputs": [],
   "source": [
    "# Write a script that reads the data from the previous CSV file and creates a new file called high_scores.csv where each row contains the player name and their highest score.\n",
    "# The final score should be sorted by descending to the highest score."
   ]
  },
  {
   "cell_type": "code",
   "execution_count": 5,
   "metadata": {},
   "outputs": [],
   "source": [
    "player_scores = {}\n",
    "with open(\"player_scores.csv\", \"r\") as csvfile:\n",
    "    reader = csv.reader(csvfile)\n",
    "    next(reader)\n",
    "    for row in reader:\n",
    "        player_scores[row[0]] = int(row[1])\n",
    "\n",
    "sorted_players = sorted(player_scores, key=player_scores.get, reverse=True)\n",
    "\n",
    "with open(\"highest score.csv\", \"w\", newline=\"\") as csvfile:\n",
    "    writer = csv.writer(csvfile)\n",
    "    writer.writerow([\"Player name\", \"Score\"])\n",
    "    for player in sorted_players:\n",
    "        writer.writerow([player, player_scores[player]])"
   ]
  }
 ],
 "metadata": {
  "kernelspec": {
   "display_name": "Python 3",
   "language": "python",
   "name": "python3"
  },
  "language_info": {
   "codemirror_mode": {
    "name": "ipython",
    "version": 3
   },
   "file_extension": ".py",
   "mimetype": "text/x-python",
   "name": "python",
   "nbconvert_exporter": "python",
   "pygments_lexer": "ipython3",
   "version": "3.10.0"
  },
  "orig_nbformat": 4
 },
 "nbformat": 4,
 "nbformat_minor": 2
}
